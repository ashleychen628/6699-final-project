{
 "cells": [
  {
   "cell_type": "markdown",
   "metadata": {},
   "source": [
    "## Reproduction on CIFAR-10"
   ]
  },
  {
   "cell_type": "markdown",
   "metadata": {},
   "source": [
    "## Mount Google Drive\n",
    "\n",
    "Mounts Google Drive to access the project directory and persist files across sessions."
   ]
  },
  {
   "cell_type": "code",
   "execution_count": 3,
   "metadata": {
    "colab": {
     "base_uri": "https://localhost:8080/"
    },
    "id": "b3TFN1oEs3N-",
    "outputId": "03294f5d-7d94-4adb-8234-fd73f880986c"
   },
   "outputs": [
    {
     "name": "stdout",
     "output_type": "stream",
     "text": [
      "Mounted at /content/drive\n"
     ]
    }
   ],
   "source": [
    "from google.colab import drive\n",
    "import os\n",
    "\n",
    "drive.mount('/content/drive')"
   ]
  },
  {
   "cell_type": "markdown",
   "metadata": {},
   "source": [
    "## Define Base and Data Directories\n",
    "\n",
    "Sets the root directory for the project and defines the path for CIFAR-10 data storage.\n"
   ]
  },
  {
   "cell_type": "code",
   "execution_count": 4,
   "metadata": {
    "id": "BPEUt9gMDKh_"
   },
   "outputs": [],
   "source": [
    "BASE_DIR = '/content/drive/MyDrive/deep_learning_project'\n",
    "DATA_DIR = os.path.join(BASE_DIR, 'data', 'CIFAR10')\n",
    "ACTIVATIONS = ['ReLU', 'LeakyReLU', 'Sigmoid', 'Tanh', 'ELU', 'Swish_fixed', 'Swish_trainable']\n",
    "MODELS = ['ResNet20', 'CustomCNN', 'DenseNet121', 'WideResNet50']\n",
    "\n",
    "# Create necessary directories\n",
    "os.makedirs(BASE_DIR, exist_ok=True)\n",
    "os.makedirs(DATA_DIR, exist_ok=True)\n",
    "for act in ACTIVATIONS:\n",
    "    os.makedirs(os.path.join(BASE_DIR, act), exist_ok=True)"
   ]
  },
  {
   "cell_type": "markdown",
   "metadata": {},
   "source": [
    "## Import PyTorch and TorchVision Libraries\n",
    "\n",
    "Imports essential modules for building models, training, and data augmentation.\n"
   ]
  },
  {
   "cell_type": "code",
   "execution_count": 5,
   "metadata": {
    "id": "tav3B19pAzB_"
   },
   "outputs": [],
   "source": [
    "import torch\n",
    "import torch.nn as nn\n",
    "import torch.nn.functional as F\n",
    "import torchvision\n",
    "import torchvision.transforms as transforms\n",
    "from torchvision.models import densenet121, wide_resnet50_2\n",
    "from torch.optim import SGD\n",
    "from torch.optim.lr_scheduler import CosineAnnealingLR, StepLR\n",
    "from torch.utils.data import DataLoader\n",
    "from torchvision.models import mobilenet_v2\n",
    "from tqdm import tqdm\n",
    "import time\n",
    "\n",
    "\n",
    "device = torch.device('cuda' if torch.cuda.is_available() else 'cpu')"
   ]
  },
  {
   "cell_type": "markdown",
   "metadata": {},
   "source": [
    "## Data Preparation for CIFAR-10\n",
    "\n",
    "Defines data augmentation and normalization for training and test datasets.\n"
   ]
  },
  {
   "cell_type": "code",
   "execution_count": null,
   "metadata": {
    "colab": {
     "base_uri": "https://localhost:8080/"
    },
    "id": "HFqkd5krA1Hz",
    "outputId": "76e12228-cd41-45fb-d3ac-12fbb488a200"
   },
   "outputs": [],
   "source": [
    "# Data Preparation for CIFAR-10\n",
    "transform_train = transforms.Compose([\n",
    "    transforms.RandomCrop(32, padding=4),\n",
    "    transforms.RandomHorizontalFlip(),\n",
    "    transforms.ToTensor(),\n",
    "    transforms.Normalize((0.4914,0.4822,0.4465),(0.2023,0.1994,0.2010))\n",
    "])\n",
    "transform_test = transforms.Compose([\n",
    "    transforms.ToTensor(),\n",
    "    transforms.Normalize((0.4914,0.4822,0.4465),(0.2023,0.1994,0.2010))\n",
    "])\n",
    "\n",
    "trainset = torchvision.datasets.CIFAR10(root=DATA_DIR, train=True, download=True, transform=transform_train)\n",
    "train_loader = DataLoader(trainset, batch_size=128, shuffle=True, num_workers=4)\n",
    "testset  = torchvision.datasets.CIFAR10(root=DATA_DIR, train=False, download=True, transform=transform_test)\n",
    "test_loader  = DataLoader(testset, batch_size=128, shuffle=False, num_workers=4)"
   ]
  },
  {
   "cell_type": "markdown",
   "metadata": {},
   "source": [
    "## Define Custom Activation Functions\n",
    "\n",
    "Implements Swish (fixed and trainable β) for experimentation.\n"
   ]
  },
  {
   "cell_type": "code",
   "execution_count": 7,
   "metadata": {
    "id": "evdxH8cuA86M"
   },
   "outputs": [],
   "source": [
    "# Define Activation Functions\n",
    "class SwishFixed(nn.Module):\n",
    "    def forward(self, x): return x * torch.sigmoid(x)\n",
    "class SwishTrainable(nn.Module):\n",
    "    def __init__(self):\n",
    "        super().__init__(); self.beta = nn.Parameter(torch.tensor(1.0))\n",
    "    def forward(self, x): return x * torch.sigmoid(self.beta * x)\n",
    "\n",
    "activation_map = {\n",
    "    'ReLU': nn.ReLU(),\n",
    "    'LeakyReLU': nn.LeakyReLU(0.1),\n",
    "    'Sigmoid': nn.Sigmoid(),\n",
    "    'Tanh': nn.Tanh(),\n",
    "    'ELU': nn.ELU(),\n",
    "    'Swish_fixed': SwishFixed(),\n",
    "    'Swish_trainable': SwishTrainable()\n",
    "}"
   ]
  },
  {
   "cell_type": "markdown",
   "metadata": {},
   "source": [
    "## Define Model Architectures\n",
    "\n",
    "Implements ResNet-20 using BasicBlock components, supporting flexible activation insertion.\n"
   ]
  },
  {
   "cell_type": "code",
   "execution_count": 8,
   "metadata": {
    "id": "3fBSMgkSBPDW"
   },
   "outputs": [],
   "source": [
    "# Define Model Architectures\n",
    "# ResNet-20\n",
    "class BasicBlock(nn.Module):\n",
    "    def __init__(self, in_planes, planes, activation, stride=1):\n",
    "        super().__init__()\n",
    "        self.act = activation\n",
    "        self.conv1 = nn.Conv2d(in_planes, planes, 3, stride, 1, bias=False)\n",
    "        self.bn1   = nn.BatchNorm2d(planes)\n",
    "        self.conv2 = nn.Conv2d(planes, planes, 3, 1, 1, bias=False)\n",
    "        self.bn2   = nn.BatchNorm2d(planes)\n",
    "        self.shortcut = nn.Sequential()\n",
    "        if stride != 1 or in_planes != planes:\n",
    "            self.shortcut = nn.Sequential(\n",
    "                nn.Conv2d(in_planes, planes, 1, stride, bias=False),\n",
    "                nn.BatchNorm2d(planes)\n",
    "            )\n",
    "    def forward(self, x):\n",
    "        out = self.act(self.bn1(self.conv1(x)))\n",
    "        out = self.bn2(self.conv2(out))\n",
    "        out += self.shortcut(x)\n",
    "        out = self.act(out)\n",
    "        return out\n",
    "\n",
    "class ResNet20(nn.Module):\n",
    "    def __init__(self, activation):\n",
    "        super().__init__()\n",
    "        self.act = activation\n",
    "        self.in_planes = 16\n",
    "        self.conv1 = nn.Conv2d(3, 16, 3, 1, 1, bias=False)\n",
    "        self.bn1   = nn.BatchNorm2d(16)\n",
    "        self.layer1 = self._make_layer(16, 3, activation, 1)\n",
    "        self.layer2 = self._make_layer(32, 3, activation, 2)\n",
    "        self.layer3 = self._make_layer(64, 3, activation, 2)\n",
    "        self.linear = nn.Linear(64, 10)\n",
    "    def _make_layer(self, planes, num_blocks, activation, stride):\n",
    "        strides = [stride] + [1]*(num_blocks-1)\n",
    "        layers = []\n",
    "        for s in strides:\n",
    "            layers.append(BasicBlock(self.in_planes, planes, activation, s))\n",
    "            self.in_planes = planes\n",
    "        return nn.Sequential(*layers)\n",
    "    def forward(self, x):\n",
    "        out = self.act(self.bn1(self.conv1(x)))\n",
    "        out = self.layer1(out)\n",
    "        out = self.layer2(out)\n",
    "        out = self.layer3(out)\n",
    "        out = F.adaptive_avg_pool2d(out, 1).view(out.size(0), -1)\n",
    "        return self.linear(out)\n",
    "\n",
    "# Custom CNN\n",
    "class CustomCNN(nn.Module):\n",
    "    def __init__(self, activation):\n",
    "        super().__init__()\n",
    "        self.act = activation\n",
    "        self.conv1 = nn.Conv2d(3, 32, 3, padding=1)\n",
    "        self.conv2 = nn.Conv2d(32, 64, 3, padding=1)\n",
    "        self.conv3 = nn.Conv2d(64, 128, 3, padding=1)\n",
    "        self.pool  = nn.MaxPool2d(2,2)\n",
    "        self.fc1   = nn.Linear(128*4*4, 256)\n",
    "        self.fc2   = nn.Linear(256, 10)\n",
    "    def forward(self, x):\n",
    "        x = self.pool(self.act(self.conv1(x)))\n",
    "        x = self.pool(self.act(self.conv2(x)))\n",
    "        x = self.pool(self.act(self.conv3(x)))\n",
    "        x = x.view(x.size(0), -1)\n",
    "        x = self.act(self.fc1(x))\n",
    "        return self.fc2(x)\n",
    "\n",
    "# DenseNet121\n",
    "class DenseNet121Custom(nn.Module):\n",
    "    def __init__(self, activation, num_classes=10):\n",
    "        super().__init__()\n",
    "        self.model = densenet121(pretrained=True)\n",
    "        def replace_relu(mod):\n",
    "            for name, child in mod.named_children():\n",
    "                if isinstance(child, nn.ReLU):\n",
    "                    setattr(mod, name, activation)\n",
    "                else:\n",
    "                    replace_relu(child)\n",
    "        replace_relu(self.model.features)\n",
    "        in_feats = self.model.classifier.in_features\n",
    "        self.model.classifier = nn.Linear(in_feats, num_classes)\n",
    "\n",
    "    def forward(self, x):\n",
    "        return self.model(x)\n",
    "\n",
    "\n",
    "# WideResNet50_2\n",
    "class WideResNet50Custom(nn.Module):\n",
    "    def __init__(self, activation, num_classes=10):\n",
    "        super().__init__()\n",
    "        self.model = wide_resnet50_2(pretrained=True)\n",
    "        def replace_relu(mod):\n",
    "            for name, child in mod.named_children():\n",
    "                if isinstance(child, nn.ReLU):\n",
    "                    setattr(mod, name, activation)\n",
    "                else:\n",
    "                    replace_relu(child)\n",
    "        replace_relu(self.model)\n",
    "        in_feats = self.model.fc.in_features\n",
    "        self.model.fc = nn.Linear(in_feats, num_classes)\n",
    "\n",
    "    def forward(self, x):\n",
    "        return self.model(x)"
   ]
  },
  {
   "cell_type": "markdown",
   "metadata": {},
   "source": [
    "## Training and Evaluation Utilities\n",
    "\n",
    "Defines the validation function that computes Top-1 and Top-5 accuracy and average loss.\n"
   ]
  },
  {
   "cell_type": "code",
   "execution_count": 9,
   "metadata": {
    "id": "CoSM7KPgBSUM"
   },
   "outputs": [],
   "source": [
    "# Training & Evaluation Functions\n",
    "\n",
    "def validate(model, loader, criterion):\n",
    "    model.eval(); total_loss=correct=total=0\n",
    "    with torch.no_grad():\n",
    "        for x,y in loader:\n",
    "            x,y = x.to(device), y.to(device)\n",
    "            out = model(x); loss = criterion(out,y)\n",
    "            total_loss += loss.item()*x.size(0)\n",
    "            preds = out.argmax(1); correct += preds.eq(y).sum().item(); total+=y.size(0)\n",
    "    return total_loss/total, 100.*correct/total"
   ]
  },
  {
   "cell_type": "markdown",
   "metadata": {},
   "source": [
    "## CIFAR-10 Experiment Loop: Model Training, Validation, and Saving\n",
    "\n",
    "This cell executes the full training pipeline for a selected model-activation pair on the CIFAR-10 dataset.\n",
    "\n",
    "### Configuration\n",
    "- `SELECT_MODEL`: Choose from `'ResNet20'`, `'CustomCNN'`, `'DenseNet121'`, `'WideResNet50'`\n",
    "- `SELECT_ACTIVATION`: Choose from predefined activations such as `'ReLU'`, `'Swish_trainable'`, `'Tanh'`, etc.\n",
    "\n",
    "### Model Instantiation\n",
    "The selected model is instantiated with the corresponding activation function from `activation_map`, and moved to the configured device (GPU or CPU).\n",
    "\n",
    "### Optimization Setup\n",
    "- **Loss Function**: `CrossEntropyLoss` for multi-class classification\n",
    "- **Optimizer**: SGD with momentum (0.9), weight decay (5e-4), and Nesterov acceleration\n",
    "- **Scheduler**: Cosine annealing schedule over 200 cycles\n",
    "\n",
    "### Training Loop\n",
    "- Trains the model for `NUM_EPOCHS = 50`\n",
    "- Uses `tqdm` for per-epoch progress visualization with real-time loss, accuracy, and ETA\n",
    "- Tracks training and validation metrics in the `history` dictionary:\n",
    "  - `train_loss`, `train_acc`: Averaged over batches\n",
    "  - `val_loss`, `val_acc`: Computed using the `validate()` function\n",
    "\n",
    "### Saving Artifacts\n",
    "- Trained model weights are saved to:  \n",
    "  `BASE_DIR / <activation> / CIFAR10_<model>_<activation>.pth`\n",
    "- Training history (as a Python dictionary) is saved to:  \n",
    "  `BASE_DIR / <activation> / history_<model>_<activation>.pt`\n",
    "\n",
    "These saved artifacts allow for reproducibility and later analysis or visualization of model performance across different activation functions.\n",
    "\n"
   ]
  },
  {
   "cell_type": "code",
   "execution_count": null,
   "metadata": {
    "colab": {
     "base_uri": "https://localhost:8080/"
    },
    "id": "CGllvmmI2Gku",
    "outputId": "93dc7215-a1fe-4577-a703-59f00898a18d"
   },
   "outputs": [],
   "source": [
    "# Experiment Loop for CIFAR-10 with Per-Epoch Progress Bars\n",
    "# Manually choose one model and one activation for flexibility:\n",
    "SELECT_MODEL = 'ResNet20'         # options: ResNet20, CustomCNN, MLP, MobileNetV2\n",
    "SELECT_ACTIVATION = 'Tanh'  # pick from ACTIVATIONS list\n",
    "\n",
    "model = {\n",
    "    'ResNet20': ResNet20(activation_map[SELECT_ACTIVATION]),\n",
    "    'CustomCNN': CustomCNN(activation_map[SELECT_ACTIVATION]),\n",
    "    'DenseNet121' : DenseNet121Custom(activation_map[SELECT_ACTIVATION], num_classes=10),\n",
    "    'WideResNet50': WideResNet50Custom(activation_map[SELECT_ACTIVATION], num_classes=10)\n",
    "}[SELECT_MODEL].to(device)\n",
    "\n",
    "criterion = nn.CrossEntropyLoss()\n",
    "optimizer = SGD(model.parameters(), lr=0.1, momentum=0.9, weight_decay=5e-4, nesterov=True)\n",
    "scheduler = CosineAnnealingLR(optimizer, T_max=200)\n",
    "\n",
    "NUM_EPOCHS = 50\n",
    "history = {'train_loss':[], 'train_acc':[], 'val_loss':[], 'val_acc':[]}\n",
    "for epoch in range(1, NUM_EPOCHS+1):\n",
    "    model.train(); running_loss=correct=total=0; start=time.time()\n",
    "    pbar = tqdm(train_loader, desc=f\"Epoch {epoch}/{NUM_EPOCHS}\", unit='batch')\n",
    "    for x,y in pbar:\n",
    "        x,y = x.to(device), y.to(device)\n",
    "        optimizer.zero_grad(); out = model(x); loss = criterion(out,y)\n",
    "        loss.backward(); optimizer.step()\n",
    "        bs = x.size(0); running_loss+=loss.item()*bs; preds=out.argmax(1)\n",
    "        correct+=preds.eq(y).sum().item(); total+=bs\n",
    "        elapsed = time.time()-start; rem=elapsed*(len(train_loader)-pbar.n)\n",
    "        m, s = divmod(int(rem),60)\n",
    "        pbar.set_postfix({'loss':f\"{running_loss/total:.4f}\",'acc':f\"{100.*correct/total:.2f}%\",'ETA':f\"{m}m{s}s\"})\n",
    "    scheduler.step()\n",
    "    val_loss, val_acc = validate(model, test_loader, criterion)\n",
    "    history['train_loss'].append(running_loss/total)\n",
    "    history['train_acc'].append(100.*correct/total)\n",
    "    history['val_loss'].append(val_loss)\n",
    "    history['val_acc'].append(val_acc)\n",
    "    print(f\"Epoch {epoch}/{NUM_EPOCHS} Train Acc: {100.*correct/total:.2f}% | Val Acc: {val_acc:.2f}%\")\n",
    "\n",
    "# Save Model\n",
    "save_path = os.path.join(BASE_DIR, SELECT_ACTIVATION, f\"CIFAR10_{SELECT_MODEL}_{SELECT_ACTIVATION}.pth\")\n",
    "torch.save(model.state_dict(), save_path)\n",
    "print(f\"Model saved to {save_path}\")\n",
    "hist_path = os.path.join(\n",
    "    BASE_DIR, SELECT_ACTIVATION,\n",
    "    f\"history_{SELECT_MODEL}_{SELECT_ACTIVATION}.pt\"\n",
    ")\n",
    "# Save history\n",
    "torch.save(history, hist_path)\n",
    "print(\"Saved history to\", hist_path)"
   ]
  },
  {
   "cell_type": "markdown",
   "metadata": {},
   "source": [
    "## Validation Accuracy Plot\n",
    "\n",
    "Visualizes validation accuracy across epochs for a given configuration.\n"
   ]
  },
  {
   "cell_type": "code",
   "execution_count": 19,
   "metadata": {
    "colab": {
     "base_uri": "https://localhost:8080/",
     "height": 472
    },
    "id": "ksCYJ7ZtNNzn",
    "outputId": "cfae33ac-6099-4566-b484-916fd845ca59"
   },
   "outputs": [
    {
     "data": {
      "image/png": "[encoded data removed]",
      "text/plain": [
       "<Figure size 640x480 with 1 Axes>"
      ]
     },
     "metadata": {},
     "output_type": "display_data"
    }
   ],
   "source": [
    "import matplotlib.pyplot as plt\n",
    "plt.plot(history['val_acc'], label='Val Acc')\n",
    "plt.xlabel('Epoch'); plt.ylabel('Test Accuracy (%)')\n",
    "plt.title(f'{SELECT_MODEL} with {SELECT_ACTIVATION} on CIFAR-10')\n",
    "plt.legend(); plt.show()"
   ]
  },
  {
   "cell_type": "markdown",
   "metadata": {},
   "source": [
    "## Save Training History\n",
    "\n",
    "Stores training logs (accuracy, loss, etc.) to Google Drive for future analysis or resumption.\n"
   ]
  },
  {
   "cell_type": "code",
   "execution_count": 21,
   "metadata": {
    "colab": {
     "base_uri": "https://localhost:8080/",
     "height": 505
    },
    "id": "QW1CcPrd6WUb",
    "outputId": "4c865d94-8a3b-4f3a-e952-0f0ecc37b17f"
   },
   "outputs": [
    {
     "name": "stdout",
     "output_type": "stream",
     "text": [
      "Saved history to /content/drive/MyDrive/deep_learning_project/Swish_fixed/history_DenseNet121_Swish_fixed.pt\n"
     ]
    },
    {
     "data": {
      "image/png": "[encoded data removed]",
      "text/plain": [
       "<Figure size 800x500 with 1 Axes>"
      ]
     },
     "metadata": {},
     "output_type": "display_data"
    }
   ],
   "source": [
    "import torch, os\n",
    "\n",
    "save_hist_path = os.path.join(\n",
    "    BASE_DIR, SELECT_ACTIVATION,\n",
    "    f\"history_{SELECT_MODEL}_{SELECT_ACTIVATION}.pt\"\n",
    ")\n",
    "torch.save(history, save_hist_path)\n",
    "print(\"Saved history to\", save_hist_path)\n",
    "import torch\n",
    "import os\n",
    "import matplotlib.pyplot as plt\n",
    "\n",
    "SELECT_MODEL       = 'DenseNet121'\n",
    "SELECT_ACTIVATION  = 'ReLU'\n",
    "\n",
    "hist_path = os.path.join(\n",
    "    BASE_DIR, SELECT_ACTIVATION,\n",
    "    f\"history_{SELECT_MODEL}_{SELECT_ACTIVATION}.pt\"\n",
    ")\n",
    "\n",
    "history = torch.load(hist_path)\n",
    "test_acc_list = history.get('test_acc', history.get('val_acc'))\n",
    "\n",
    "\n",
    "epochs = range(1, len(test_acc_list) + 1)\n",
    "plt.figure(figsize=(8,5))\n",
    "plt.plot(epochs, test_acc_list, marker='o', label='Test Accuracy')\n",
    "plt.xlabel('Epoch')\n",
    "plt.ylabel('Test Accuracy (%)')\n",
    "plt.title(f'{SELECT_MODEL} with {SELECT_ACTIVATION} on CIFAR-10')\n",
    "plt.grid(True)\n",
    "plt.legend()\n",
    "plt.show()\n"
   ]
  }
 ],
 "metadata": {
  "accelerator": "GPU",
  "colab": {
   "gpuType": "T4",
   "provenance": []
  },
  "kernelspec": {
   "display_name": "Python 3",
   "language": "python",
   "name": "python3"
  },
  "language_info": {
   "codemirror_mode": {
    "name": "ipython",
    "version": 3
   },
   "file_extension": ".py",
   "mimetype": "text/x-python",
   "name": "python",
   "nbconvert_exporter": "python",
   "pygments_lexer": "ipython3",
   "version": "3.7.12"
  }
 },
 "nbformat": 4,
 "nbformat_minor": 4
}
