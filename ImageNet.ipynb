{
 "cells": [
  {
   "cell_type": "code",
   "execution_count": 1,
   "metadata": {
    "id": "BPEUt9gMDKh_"
   },
   "outputs": [],
   "source": [
    "import os\n",
    "import time\n",
    "from model.ResNet18 import ResNet18\n",
    "from model.CustomCNN import CustomCNN\n",
    "from model.MobileNetV2 import MobileNetV2\n",
    "\n",
    "imagenet100_path = \"data/imagenet-1300-10\"\n",
    "# imagenet100_path = \"data/imagenet-100-imagefolder\"\n",
    "\n",
    "ACTIVATIONS = ['ReLU', 'LeakyReLU', 'Sigmoid', 'Tanh', 'ELU', 'Swish_fixed', 'Swish_trainable']\n",
    "MODELS = ['ResNet18', 'CustomCNN', 'MobileNetV2']"
   ]
  },
  {
   "cell_type": "code",
   "execution_count": 2,
   "metadata": {
    "id": "tav3B19pAzB_"
   },
   "outputs": [],
   "source": [
    "import torch\n",
    "import torch.nn as nn\n",
    "import torch.nn.functional as F\n",
    "import torchvision\n",
    "import torchvision.transforms as transforms\n",
    "from torchvision.models import densenet121, wide_resnet50_2\n",
    "from torch.optim import SGD\n",
    "from torch.optim.lr_scheduler import CosineAnnealingLR, StepLR\n",
    "from torch.utils.data import DataLoader\n",
    "from torchvision.models import mobilenet_v2\n",
    "from tqdm import tqdm\n",
    "import time\n",
    "\n",
    "\n",
    "device = torch.device('cuda' if torch.cuda.is_available() else 'cpu')"
   ]
  },
  {
   "cell_type": "code",
   "execution_count": 3,
   "metadata": {
    "colab": {
     "base_uri": "https://localhost:8080/"
    },
    "id": "HFqkd5krA1Hz",
    "outputId": "76e12228-cd41-45fb-d3ac-12fbb488a200"
   },
   "outputs": [],
   "source": [
    "from torchvision import datasets, transforms\n",
    "from torch.utils.data import DataLoader\n",
    "\n",
    "normalize = transforms.Normalize(mean=[0.485, 0.456, 0.406],\n",
    "                                 std=[0.229, 0.224, 0.225])\n",
    "\n",
    "train_transform = transforms.Compose([\n",
    "    transforms.RandomResizedCrop(224),\n",
    "    transforms.RandomHorizontalFlip(),\n",
    "    transforms.ToTensor(),\n",
    "    normalize\n",
    "])\n",
    "\n",
    "val_transform = transforms.Compose([\n",
    "    transforms.Resize(256),\n",
    "    transforms.CenterCrop(224),\n",
    "    transforms.ToTensor(),\n",
    "    normalize\n",
    "])\n",
    "\n",
    "train_dataset = datasets.ImageFolder(f\"{imagenet100_path}/train\", transform=train_transform)\n",
    "val_dataset = datasets.ImageFolder(f\"{imagenet100_path}/val\", transform=val_transform)\n",
    "\n",
    "train_loader = DataLoader(train_dataset, batch_size=128, shuffle=True, num_workers=4)\n",
    "val_loader = DataLoader(val_dataset, batch_size=128, shuffle=False, num_workers=4)\n"
   ]
  },
  {
   "cell_type": "code",
   "execution_count": 4,
   "metadata": {
    "id": "evdxH8cuA86M"
   },
   "outputs": [],
   "source": [
    "# Define Activation Functions\n",
    "class SwishFixed(nn.Module):\n",
    "    def forward(self, x): return x * torch.sigmoid(x)\n",
    "\n",
    "class SwishTrainable(nn.Module):\n",
    "    def __init__(self):\n",
    "        super().__init__()\n",
    "        self.beta = nn.Parameter(torch.tensor(1.0))\n",
    "        \n",
    "    def forward(self, x): return x * torch.sigmoid(self.beta * x)\n",
    "\n",
    "activation_map = {\n",
    "    'ReLU': nn.ReLU(),\n",
    "    'LeakyReLU': nn.LeakyReLU(0.1),\n",
    "    'Sigmoid': nn.Sigmoid(),\n",
    "    'Tanh': nn.Tanh(),\n",
    "    'ELU': nn.ELU(),\n",
    "    'Swish_fixed': SwishFixed(),\n",
    "    'Swish_trainable': SwishTrainable()\n",
    "}\n",
    "\n",
    "# for name, act in activation_map.items():\n",
    "#     print(f\"{name}: {act}, type: {type(act)}, is nn.Module? {isinstance(act, nn.Module)}\")\n"
   ]
  },
  {
   "cell_type": "code",
   "execution_count": 5,
   "metadata": {},
   "outputs": [],
   "source": [
    "def validate(model, loader, criterion):\n",
    "    model.eval(); total_loss=top1=top5=total=0\n",
    "    with torch.no_grad():\n",
    "        for x, y in loader:\n",
    "            x, y = x.to(device), y.to(device)\n",
    "            out = model(x)\n",
    "            loss = criterion(out, y)\n",
    "            total_loss += loss.item() * x.size(0)\n",
    "\n",
    "            _, pred = out.topk(5, dim=1)\n",
    "            correct = pred.eq(y.view(-1, 1).expand_as(pred))\n",
    "            top1 += correct[:, 0].sum().item()\n",
    "            top5 += correct.sum().item()\n",
    "            total += y.size(0)\n",
    "\n",
    "    return total_loss / total, 100. * top1 / total, 100. * top5 / total\n"
   ]
  },
  {
   "cell_type": "code",
   "execution_count": 6,
   "metadata": {},
   "outputs": [],
   "source": [
    "import torchvision.models as models\n",
    "import torch.nn as nn\n",
    "\n",
    "SELECT_MODEL = 'MobileNetV2'         # options: ResNet18, CustomCNN, MobileNetV2\n",
    "SELECT_ACTIVATION = 'ELU'  # 'ReLU', 'LeakyReLU', 'Sigmoid', 'Tanh', 'ELU', 'Swish_fixed', 'Swish_trainable'\n",
    "activation_fn = activation_map[SELECT_ACTIVATION]\n",
    "\n",
    "num_classes = 10  # or 100 for ImageNet-100\n"
   ]
  },
  {
   "cell_type": "code",
   "execution_count": null,
   "metadata": {
    "colab": {
     "base_uri": "https://localhost:8080/"
    },
    "id": "CGllvmmI2Gku",
    "outputId": "93dc7215-a1fe-4577-a703-59f00898a18d"
   },
   "outputs": [
    {
     "name": "stderr",
     "output_type": "stream",
     "text": [
      "Epoch 1/20: 100%|█| 102/102 [00:56<00:00,  1.80batch/s, loss=1.6824, acc=40.75%,\n"
     ]
    },
    {
     "name": "stdout",
     "output_type": "stream",
     "text": [
      "Epoch 1/20 Train Acc: 40.75% | Val Top-1 Acc: 39.40% | Val Top-5 Acc: 88.80%\n"
     ]
    },
    {
     "name": "stderr",
     "output_type": "stream",
     "text": [
      "Epoch 2/20: 100%|█| 102/102 [00:56<00:00,  1.82batch/s, loss=1.3265, acc=54.26%,\n"
     ]
    },
    {
     "name": "stdout",
     "output_type": "stream",
     "text": [
      "Epoch 2/20 Train Acc: 54.26% | Val Top-1 Acc: 57.00% | Val Top-5 Acc: 92.00%\n"
     ]
    },
    {
     "name": "stderr",
     "output_type": "stream",
     "text": [
      "Epoch 3/20: 100%|█| 102/102 [00:56<00:00,  1.82batch/s, loss=1.1783, acc=59.95%,\n"
     ]
    },
    {
     "name": "stdout",
     "output_type": "stream",
     "text": [
      "Epoch 3/20 Train Acc: 59.95% | Val Top-1 Acc: 55.20% | Val Top-5 Acc: 89.60%\n"
     ]
    },
    {
     "name": "stderr",
     "output_type": "stream",
     "text": [
      "Epoch 4/20: 100%|█| 102/102 [00:56<00:00,  1.81batch/s, loss=1.0720, acc=63.85%,\n"
     ]
    },
    {
     "name": "stdout",
     "output_type": "stream",
     "text": [
      "Epoch 4/20 Train Acc: 63.85% | Val Top-1 Acc: 68.20% | Val Top-5 Acc: 95.20%\n"
     ]
    },
    {
     "name": "stderr",
     "output_type": "stream",
     "text": [
      "Epoch 5/20: 100%|█| 102/102 [00:56<00:00,  1.82batch/s, loss=0.9971, acc=66.64%,\n"
     ]
    },
    {
     "name": "stdout",
     "output_type": "stream",
     "text": [
      "Epoch 5/20 Train Acc: 66.64% | Val Top-1 Acc: 66.00% | Val Top-5 Acc: 95.40%\n"
     ]
    },
    {
     "name": "stderr",
     "output_type": "stream",
     "text": [
      "Epoch 6/20: 100%|█| 102/102 [00:55<00:00,  1.84batch/s, loss=0.9500, acc=68.11%,\n"
     ]
    },
    {
     "name": "stdout",
     "output_type": "stream",
     "text": [
      "Epoch 6/20 Train Acc: 68.11% | Val Top-1 Acc: 68.80% | Val Top-5 Acc: 95.00%\n"
     ]
    },
    {
     "name": "stderr",
     "output_type": "stream",
     "text": [
      "Epoch 7/20: 100%|█| 102/102 [00:55<00:00,  1.84batch/s, loss=0.8956, acc=70.02%,\n"
     ]
    },
    {
     "name": "stdout",
     "output_type": "stream",
     "text": [
      "Epoch 7/20 Train Acc: 70.02% | Val Top-1 Acc: 66.60% | Val Top-5 Acc: 95.60%\n"
     ]
    },
    {
     "name": "stderr",
     "output_type": "stream",
     "text": [
      "Epoch 8/20: 100%|█| 102/102 [01:05<00:00,  1.57batch/s, loss=0.8634, acc=71.27%,\n"
     ]
    },
    {
     "name": "stdout",
     "output_type": "stream",
     "text": [
      "Epoch 8/20 Train Acc: 71.27% | Val Top-1 Acc: 72.00% | Val Top-5 Acc: 96.40%\n"
     ]
    },
    {
     "name": "stderr",
     "output_type": "stream",
     "text": [
      "Epoch 9/20: 100%|█| 102/102 [00:56<00:00,  1.81batch/s, loss=0.8253, acc=73.13%,\n"
     ]
    },
    {
     "name": "stdout",
     "output_type": "stream",
     "text": [
      "Epoch 9/20 Train Acc: 73.13% | Val Top-1 Acc: 72.80% | Val Top-5 Acc: 97.00%\n"
     ]
    },
    {
     "name": "stderr",
     "output_type": "stream",
     "text": [
      "Epoch 10/20: 100%|█| 102/102 [00:56<00:00,  1.81batch/s, loss=0.7886, acc=74.43%\n"
     ]
    },
    {
     "name": "stdout",
     "output_type": "stream",
     "text": [
      "Epoch 10/20 Train Acc: 74.43% | Val Top-1 Acc: 75.60% | Val Top-5 Acc: 96.00%\n"
     ]
    },
    {
     "name": "stderr",
     "output_type": "stream",
     "text": [
      "Epoch 11/20: 100%|█| 102/102 [00:55<00:00,  1.82batch/s, loss=0.7594, acc=75.08%\n"
     ]
    },
    {
     "name": "stdout",
     "output_type": "stream",
     "text": [
      "Epoch 11/20 Train Acc: 75.08% | Val Top-1 Acc: 72.80% | Val Top-5 Acc: 95.40%\n"
     ]
    },
    {
     "name": "stderr",
     "output_type": "stream",
     "text": [
      "Epoch 12/20: 100%|█| 102/102 [00:55<00:00,  1.83batch/s, loss=0.7358, acc=75.47%\n"
     ]
    },
    {
     "name": "stdout",
     "output_type": "stream",
     "text": [
      "Epoch 12/20 Train Acc: 75.47% | Val Top-1 Acc: 75.00% | Val Top-5 Acc: 96.20%\n"
     ]
    },
    {
     "name": "stderr",
     "output_type": "stream",
     "text": [
      "Epoch 13/20: 100%|█| 102/102 [00:56<00:00,  1.79batch/s, loss=0.7275, acc=75.84%\n"
     ]
    },
    {
     "name": "stdout",
     "output_type": "stream",
     "text": [
      "Epoch 13/20 Train Acc: 75.84% | Val Top-1 Acc: 72.00% | Val Top-5 Acc: 97.60%\n"
     ]
    },
    {
     "name": "stderr",
     "output_type": "stream",
     "text": [
      "Epoch 14/20: 100%|█| 102/102 [00:56<00:00,  1.80batch/s, loss=0.7016, acc=76.98%\n"
     ]
    },
    {
     "name": "stdout",
     "output_type": "stream",
     "text": [
      "Epoch 14/20 Train Acc: 76.98% | Val Top-1 Acc: 75.80% | Val Top-5 Acc: 96.40%\n"
     ]
    },
    {
     "name": "stderr",
     "output_type": "stream",
     "text": [
      "Epoch 15/20: 100%|█| 102/102 [00:55<00:00,  1.82batch/s, loss=0.6774, acc=77.81%\n"
     ]
    },
    {
     "name": "stdout",
     "output_type": "stream",
     "text": [
      "Epoch 15/20 Train Acc: 77.81% | Val Top-1 Acc: 76.80% | Val Top-5 Acc: 97.20%\n"
     ]
    },
    {
     "name": "stderr",
     "output_type": "stream",
     "text": [
      "Epoch 16/20: 100%|█| 102/102 [00:55<00:00,  1.84batch/s, loss=0.6560, acc=78.25%\n"
     ]
    },
    {
     "name": "stdout",
     "output_type": "stream",
     "text": [
      "Epoch 16/20 Train Acc: 78.25% | Val Top-1 Acc: 75.80% | Val Top-5 Acc: 96.80%\n"
     ]
    },
    {
     "name": "stderr",
     "output_type": "stream",
     "text": [
      "Epoch 17/20: 100%|█| 102/102 [00:55<00:00,  1.84batch/s, loss=0.6336, acc=79.28%\n"
     ]
    },
    {
     "name": "stdout",
     "output_type": "stream",
     "text": [
      "Epoch 17/20 Train Acc: 79.28% | Val Top-1 Acc: 74.80% | Val Top-5 Acc: 96.80%\n"
     ]
    },
    {
     "name": "stderr",
     "output_type": "stream",
     "text": [
      "Epoch 18/20: 100%|█| 102/102 [00:56<00:00,  1.80batch/s, loss=0.6296, acc=79.27%\n"
     ]
    },
    {
     "name": "stdout",
     "output_type": "stream",
     "text": [
      "Epoch 18/20 Train Acc: 79.27% | Val Top-1 Acc: 77.40% | Val Top-5 Acc: 98.20%\n"
     ]
    },
    {
     "name": "stderr",
     "output_type": "stream",
     "text": [
      "Epoch 19/20: 100%|█| 102/102 [00:56<00:00,  1.81batch/s, loss=0.6144, acc=79.73%\n"
     ]
    },
    {
     "name": "stdout",
     "output_type": "stream",
     "text": [
      "Epoch 19/20 Train Acc: 79.73% | Val Top-1 Acc: 75.80% | Val Top-5 Acc: 96.60%\n"
     ]
    },
    {
     "name": "stderr",
     "output_type": "stream",
     "text": [
      "Epoch 20/20:  76%|▊| 78/102 [00:44<00:12,  1.87batch/s, loss=0.5872, acc=80.16%,"
     ]
    }
   ],
   "source": [
    "model = {\n",
    "    'ResNet18': ResNet18(activation=activation_map[SELECT_ACTIVATION], num_classes=10),\n",
    "    'CustomCNN': CustomCNN(activation=activation_map[SELECT_ACTIVATION], num_classes=10),\n",
    "    'MobileNetV2': MobileNetV2(activation=activation_map[SELECT_ACTIVATION], num_classes=10)\n",
    "\n",
    "}[SELECT_MODEL].to(device)\n",
    "\n",
    "criterion = nn.CrossEntropyLoss()\n",
    "optimizer = SGD(model.parameters(), lr=0.01, momentum=0.9, weight_decay=1e-4, nesterov=True)\n",
    "scheduler = CosineAnnealingLR(optimizer, T_max=200)\n",
    "\n",
    "NUM_EPOCHS = 20\n",
    "\n",
    "hist_dir = os.path.join(\"checkpoints\", SELECT_ACTIVATION)\n",
    "os.makedirs(hist_dir, exist_ok=True)\n",
    "history = {\n",
    "    'train_loss': [],\n",
    "    'train_acc': [],\n",
    "    'val_loss': [],\n",
    "    'val_acc': [],\n",
    "    'val_top5': [],\n",
    "    'epoch_time': [],     # Track epoch duration (in seconds)\n",
    "    'max_gpu_mem': []     # Track max GPU memory (in MB)\n",
    "}\n",
    "\n",
    "resume_path = os.path.join(hist_dir, f\"resume_{SELECT_MODEL}_{SELECT_ACTIVATION}.pt\")\n",
    "start_epoch = 1\n",
    "\n",
    "if os.path.exists(resume_path):\n",
    "    print(f\"Resuming training from {resume_path}\")\n",
    "    checkpoint = torch.load(resume_path)\n",
    "    model.load_state_dict(checkpoint['model_state_dict'])\n",
    "    optimizer.load_state_dict(checkpoint['optimizer_state_dict'])\n",
    "    scheduler.load_state_dict(checkpoint['scheduler_state_dict'])\n",
    "    history = checkpoint['history']\n",
    "    start_epoch = checkpoint['epoch'] + 1\n",
    "\n",
    "for epoch in range(start_epoch, NUM_EPOCHS+1):\n",
    "    start_time = time.time()\n",
    "    torch.cuda.reset_peak_memory_stats()  # Reset tracking\n",
    "    \n",
    "    model.train(); running_loss=correct=total=0; start=time.time()\n",
    "    pbar = tqdm(train_loader, desc=f\"Epoch {epoch}/{NUM_EPOCHS}\", unit='batch')\n",
    "    for x,y in pbar:\n",
    "        x,y = x.to(device), y.to(device)\n",
    "        optimizer.zero_grad(); out = model(x); loss = criterion(out,y)\n",
    "        loss.backward(); optimizer.step()\n",
    "        bs = x.size(0); running_loss+=loss.item()*bs; preds=out.argmax(1)\n",
    "        correct+=preds.eq(y).sum().item(); total+=bs\n",
    "        elapsed = time.time()-start; rem=elapsed*(len(train_loader)-pbar.n)\n",
    "        m, s = divmod(int(rem),60)\n",
    "        pbar.set_postfix({'loss':f\"{running_loss/total:.4f}\",'acc':f\"{100.*correct/total:.2f}%\",'ETA':f\"{m}m{s}s\"})\n",
    "    scheduler.step()\n",
    "    \n",
    "    epoch_time = time.time() - start_time\n",
    "    max_mem_mb = torch.cuda.max_memory_allocated() / 1024 / 1024\n",
    "    \n",
    "    val_loss, val_top1, val_top5 = validate(model, val_loader, criterion)\n",
    "\n",
    "    history['train_loss'].append(running_loss / total)\n",
    "    history['train_acc'].append(100. * correct / total)\n",
    "    history['val_loss'].append(val_loss)\n",
    "    history['val_acc'].append(val_top1)\n",
    "    history.setdefault('val_top5', []).append(val_top5)\n",
    "    history['epoch_time'].append(epoch_time)\n",
    "    history['max_gpu_mem'].append(max_mem_mb)\n",
    "\n",
    "    print(f\"Epoch {epoch}/{NUM_EPOCHS} Train Acc: {100.*correct/total:.2f}% | \"\n",
    "          f\"Val Top-1 Acc: {val_top1:.2f}% | Val Top-5 Acc: {val_top5:.2f}%\")\n",
    "    \n",
    "    # Save checkpoint for resume\n",
    "    resume_state = {\n",
    "        'model_state_dict': model.state_dict(),\n",
    "        'optimizer_state_dict': optimizer.state_dict(),\n",
    "        'scheduler_state_dict': scheduler.state_dict(),\n",
    "        'history': history,\n",
    "        'epoch': epoch\n",
    "    }\n",
    "    torch.save(resume_state, os.path.join(hist_dir, f\"resume_{SELECT_MODEL}_{SELECT_ACTIVATION}.pt\"))\n",
    "\n",
    "\n",
    "# Save Model\n",
    "\n",
    "save_dir = os.path.join(\"model\", SELECT_ACTIVATION)\n",
    "os.makedirs(save_dir, exist_ok=True)\n",
    "\n",
    "save_path = os.path.join(save_dir, f\"ImageNet100_{SELECT_MODEL}_{SELECT_ACTIVATION}.pth\")\n",
    "torch.save(model.state_dict(), save_path)\n",
    "\n",
    "# save history\n",
    "\n",
    "hist_path = os.path.join(hist_dir, f\"history_{SELECT_MODEL}_{SELECT_ACTIVATION}.pt\")\n",
    "torch.save(history, hist_path)\n",
    "\n",
    "print(\"Saved history to\", hist_path)"
   ]
  },
  {
   "cell_type": "code",
   "execution_count": 15,
   "metadata": {
    "colab": {
     "base_uri": "https://localhost:8080/",
     "height": 472
    },
    "id": "ksCYJ7ZtNNzn",
    "outputId": "cfae33ac-6099-4566-b484-916fd845ca59"
   },
   "outputs": [
    {
     "data": {
      "image/png": "[encoded data removed]",
      "text/plain": [
       "<Figure size 432x288 with 1 Axes>"
      ]
     },
     "metadata": {
      "needs_background": "light"
     },
     "output_type": "display_data"
    }
   ],
   "source": [
    "import matplotlib.pyplot as plt\n",
    "plt.plot(history['val_acc'], label='Val Acc')\n",
    "plt.xlabel('Epoch'); plt.ylabel('Test Accuracy (%)')\n",
    "plt.title(f'{SELECT_MODEL} with {SELECT_ACTIVATION} on CIFAR-10')\n",
    "plt.legend(); plt.show()\n"
   ]
  },
  {
   "cell_type": "code",
   "execution_count": 16,
   "metadata": {
    "colab": {
     "base_uri": "https://localhost:8080/",
     "height": 505
    },
    "id": "QW1CcPrd6WUb",
    "outputId": "4c865d94-8a3b-4f3a-e952-0f0ecc37b17f"
   },
   "outputs": [
    {
     "name": "stdout",
     "output_type": "stream",
     "text": [
      "Missing: checkpoints/ELU/history_MobileNetV2_ELU.pt\n",
      "Missing: checkpoints/Swish_trainable/history_MobileNetV2_Swish_trainable.pt\n"
     ]
    },
    {
     "data": {
      "image/png": "[encoded data removed]",
      "text/plain": [
       "<Figure size 720x432 with 1 Axes>"
      ]
     },
     "metadata": {
      "needs_background": "light"
     },
     "output_type": "display_data"
    }
   ],
   "source": [
    "import os\n",
    "import torch\n",
    "import matplotlib.pyplot as plt\n",
    "\n",
    "BASE_DIR = \"checkpoints\"  # or wherever your .pt files are saved\n",
    "SELECT_MODEL = \"MobileNetV2\"  # or \"ResNet18\", \"MobileNetV2\", etc.\n",
    "\n",
    "# List all activations you used in training\n",
    "ACTIVATIONS = ['ReLU', 'LeakyReLU', 'Sigmoid', 'Tanh', 'ELU', 'Swish_fixed', 'Swish_trainable']\n",
    "\n",
    "plt.figure(figsize=(10,6))\n",
    "\n",
    "for activation in ACTIVATIONS:\n",
    "    hist_path = os.path.join(BASE_DIR, activation, f\"history_{SELECT_MODEL}_{activation}.pt\")\n",
    "    if not os.path.exists(hist_path):\n",
    "        print(f\"Missing: {hist_path}\")\n",
    "        continue\n",
    "\n",
    "    history = torch.load(hist_path)\n",
    "    acc_list = history.get('val_acc', history.get('val_acc', []))\n",
    "    max_gpu_list = history.get('max_gpu_mem', history.get('max_gpu_mem', []))\n",
    "    \n",
    "    if not acc_list:\n",
    "        print(f\"No val/test acc found in {activation}\")\n",
    "        continue\n",
    "\n",
    "    epochs = range(1, len( acc_list) + 1)\n",
    "    plt.plot(epochs,  acc_list, marker='o', label=activation)\n",
    "\n",
    "plt.title(f\"Validation Accuracy over Epochs ({SELECT_MODEL})\")\n",
    "plt.xlabel(\"Epoch\")\n",
    "plt.ylabel(\"Accuracy (%)\")\n",
    "plt.grid(True)\n",
    "plt.legend()\n",
    "plt.tight_layout()\n",
    "plt.show()\n"
   ]
  },
  {
   "cell_type": "code",
   "execution_count": null,
   "metadata": {},
   "outputs": [],
   "source": []
  }
 ],
 "metadata": {
  "accelerator": "GPU",
  "colab": {
   "gpuType": "T4",
   "provenance": []
  },
  "kernelspec": {
   "display_name": "Python 3",
   "language": "python",
   "name": "python3"
  },
  "language_info": {
   "codemirror_mode": {
    "name": "ipython",
    "version": 3
   },
   "file_extension": ".py",
   "mimetype": "text/x-python",
   "name": "python",
   "nbconvert_exporter": "python",
   "pygments_lexer": "ipython3",
   "version": "3.7.12"
  }
 },
 "nbformat": 4,
 "nbformat_minor": 4
}
