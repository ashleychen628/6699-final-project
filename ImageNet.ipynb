{
 "cells": [
  {
   "cell_type": "code",
   "execution_count": 1,
   "metadata": {
    "id": "BPEUt9gMDKh_"
   },
   "outputs": [],
   "source": [
    "import os\n",
    "import time\n",
    "from model.ResNet18 import ResNet18\n",
    "from model.CustomCNN import CustomCNN\n",
    "from model.MobileNetV2 import MobileNetV2\n",
    "\n",
    "imagenet100_path = \"data/imagenet-mini2\"\n",
    "# imagenet100_path = \"data/imagenet-100-imagefolder\"\n",
    "\n",
    "ACTIVATIONS = ['ReLU', 'LeakyReLU', 'Sigmoid', 'Tanh', 'ELU', 'Swish_fixed', 'Swish_trainable']\n",
    "MODELS = ['ResNet18', 'CustomCNN', 'MobileNetV2']"
   ]
  },
  {
   "cell_type": "code",
   "execution_count": 2,
   "metadata": {
    "id": "tav3B19pAzB_"
   },
   "outputs": [],
   "source": [
    "import torch\n",
    "import torch.nn as nn\n",
    "import torch.nn.functional as F\n",
    "import torchvision\n",
    "import torchvision.transforms as transforms\n",
    "from torchvision.models import densenet121, wide_resnet50_2\n",
    "from torch.optim import SGD\n",
    "from torch.optim.lr_scheduler import CosineAnnealingLR, StepLR\n",
    "from torch.utils.data import DataLoader\n",
    "from torchvision.models import mobilenet_v2\n",
    "from tqdm import tqdm\n",
    "import time\n",
    "\n",
    "\n",
    "device = torch.device('cuda' if torch.cuda.is_available() else 'cpu')"
   ]
  },
  {
   "cell_type": "code",
   "execution_count": 3,
   "metadata": {
    "colab": {
     "base_uri": "https://localhost:8080/"
    },
    "id": "HFqkd5krA1Hz",
    "outputId": "76e12228-cd41-45fb-d3ac-12fbb488a200"
   },
   "outputs": [],
   "source": [
    "from torchvision import datasets, transforms\n",
    "from torch.utils.data import DataLoader\n",
    "\n",
    "normalize = transforms.Normalize(mean=[0.485, 0.456, 0.406],\n",
    "                                 std=[0.229, 0.224, 0.225])\n",
    "\n",
    "train_transform = transforms.Compose([\n",
    "    transforms.RandomResizedCrop(224),\n",
    "    transforms.RandomHorizontalFlip(),\n",
    "    transforms.ToTensor(),\n",
    "    normalize\n",
    "])\n",
    "\n",
    "val_transform = transforms.Compose([\n",
    "    transforms.Resize(256),\n",
    "    transforms.CenterCrop(224),\n",
    "    transforms.ToTensor(),\n",
    "    normalize\n",
    "])\n",
    "\n",
    "train_dataset = datasets.ImageFolder(f\"{imagenet100_path}/train\", transform=train_transform)\n",
    "val_dataset = datasets.ImageFolder(f\"{imagenet100_path}/val\", transform=val_transform)\n",
    "\n",
    "train_loader = DataLoader(train_dataset, batch_size=128, shuffle=True, num_workers=4)\n",
    "val_loader = DataLoader(val_dataset, batch_size=128, shuffle=False, num_workers=4)\n"
   ]
  },
  {
   "cell_type": "code",
   "execution_count": 4,
   "metadata": {
    "id": "evdxH8cuA86M"
   },
   "outputs": [],
   "source": [
    "# Define Activation Functions\n",
    "class SwishFixed(nn.Module):\n",
    "    def forward(self, x): return x * torch.sigmoid(x)\n",
    "\n",
    "class SwishTrainable(nn.Module):\n",
    "    def __init__(self):\n",
    "        super().__init__()\n",
    "        self.beta = nn.Parameter(torch.tensor(1.0))\n",
    "        \n",
    "    def forward(self, x): return x * torch.sigmoid(self.beta * x)\n",
    "\n",
    "activation_map = {\n",
    "    'ReLU': nn.ReLU(),\n",
    "    'LeakyReLU': nn.LeakyReLU(0.1),\n",
    "    'Sigmoid': nn.Sigmoid(),\n",
    "    'Tanh': nn.Tanh(),\n",
    "    'ELU': nn.ELU(),\n",
    "    'Swish_fixed': SwishFixed(),\n",
    "    'Swish_trainable': SwishTrainable()\n",
    "}\n",
    "\n",
    "# for name, act in activation_map.items():\n",
    "#     print(f\"{name}: {act}, type: {type(act)}, is nn.Module? {isinstance(act, nn.Module)}\")\n"
   ]
  },
  {
   "cell_type": "code",
   "execution_count": 5,
   "metadata": {},
   "outputs": [],
   "source": [
    "def validate(model, loader, criterion):\n",
    "    model.eval(); total_loss=top1=top5=total=0\n",
    "    with torch.no_grad():\n",
    "        for x, y in loader:\n",
    "            x, y = x.to(device), y.to(device)\n",
    "            out = model(x)\n",
    "            loss = criterion(out, y)\n",
    "            total_loss += loss.item() * x.size(0)\n",
    "\n",
    "            _, pred = out.topk(5, dim=1)\n",
    "            correct = pred.eq(y.view(-1, 1).expand_as(pred))\n",
    "            top1 += correct[:, 0].sum().item()\n",
    "            top5 += correct.sum().item()\n",
    "            total += y.size(0)\n",
    "\n",
    "    return total_loss / total, 100. * top1 / total, 100. * top5 / total\n"
   ]
  },
  {
   "cell_type": "code",
   "execution_count": 6,
   "metadata": {},
   "outputs": [],
   "source": [
    "import torchvision.models as models\n",
    "import torch.nn as nn\n",
    "\n",
    "SELECT_MODEL = 'ResNet18'         # options: ResNet18, CustomCNN, MobileNetV2\n",
    "SELECT_ACTIVATION = 'LeakyReLU'  # 'ReLU', 'LeakyReLU', 'Sigmoid', 'Tanh', 'ELU', 'Swish_fixed', 'Swish_trainable'\n",
    "activation_fn = activation_map[SELECT_ACTIVATION]\n",
    "\n",
    "num_classes = 20  # or 100 for ImageNet-100\n"
   ]
  },
  {
   "cell_type": "code",
   "execution_count": null,
   "metadata": {
    "colab": {
     "base_uri": "https://localhost:8080/"
    },
    "id": "CGllvmmI2Gku",
    "outputId": "93dc7215-a1fe-4577-a703-59f00898a18d"
   },
   "outputs": [
    {
     "name": "stderr",
     "output_type": "stream",
     "text": [
      "Epoch 1/20: 100%|█| 24/24 [00:12<00:00,  1.96batch/s, loss=2.7232, acc\n"
     ]
    },
    {
     "name": "stdout",
     "output_type": "stream",
     "text": [
      "Epoch 1/20 Train Acc: 17.97% | Val Top-1 Acc: 15.60% | Val Top-5 Acc: 50.60%\n"
     ]
    },
    {
     "name": "stderr",
     "output_type": "stream",
     "text": [
      "Epoch 2/20: 100%|█| 24/24 [00:12<00:00,  1.97batch/s, loss=2.4938, acc\n"
     ]
    },
    {
     "name": "stdout",
     "output_type": "stream",
     "text": [
      "Epoch 2/20 Train Acc: 24.00% | Val Top-1 Acc: 19.70% | Val Top-5 Acc: 59.20%\n"
     ]
    },
    {
     "name": "stderr",
     "output_type": "stream",
     "text": [
      "Epoch 3/20: 100%|█| 24/24 [00:12<00:00,  1.94batch/s, loss=2.3339, acc\n"
     ]
    },
    {
     "name": "stdout",
     "output_type": "stream",
     "text": [
      "Epoch 3/20 Train Acc: 28.63% | Val Top-1 Acc: 28.20% | Val Top-5 Acc: 65.00%\n"
     ]
    },
    {
     "name": "stderr",
     "output_type": "stream",
     "text": [
      "Epoch 4/20: 100%|█| 24/24 [00:12<00:00,  1.89batch/s, loss=2.1883, acc\n"
     ]
    },
    {
     "name": "stdout",
     "output_type": "stream",
     "text": [
      "Epoch 4/20 Train Acc: 33.30% | Val Top-1 Acc: 30.70% | Val Top-5 Acc: 71.10%\n"
     ]
    },
    {
     "name": "stderr",
     "output_type": "stream",
     "text": [
      "Epoch 5/20: 100%|█| 24/24 [00:12<00:00,  1.96batch/s, loss=2.0638, acc\n"
     ]
    },
    {
     "name": "stdout",
     "output_type": "stream",
     "text": [
      "Epoch 5/20 Train Acc: 37.50% | Val Top-1 Acc: 27.60% | Val Top-5 Acc: 65.20%\n"
     ]
    },
    {
     "name": "stderr",
     "output_type": "stream",
     "text": [
      "Epoch 6/20: 100%|█| 24/24 [00:11<00:00,  2.01batch/s, loss=1.9579, acc\n"
     ]
    }
   ],
   "source": [
    "model = {\n",
    "    'ResNet18': ResNet18(activation=activation_map[SELECT_ACTIVATION], num_classes=20),\n",
    "    'CustomCNN': CustomCNN(activation=activation_map[SELECT_ACTIVATION], num_classes=20),\n",
    "    'MobileNetV2': MobileNetV2(activation=activation_map[SELECT_ACTIVATION], num_classes=20)\n",
    "\n",
    "}[SELECT_MODEL].to(device)\n",
    "\n",
    "criterion = nn.CrossEntropyLoss()\n",
    "optimizer = SGD(model.parameters(), lr=0.01, momentum=0.9, weight_decay=1e-4, nesterov=True)\n",
    "scheduler = CosineAnnealingLR(optimizer, T_max=200)\n",
    "\n",
    "NUM_EPOCHS = 20\n",
    "history = {\n",
    "    'train_loss': [],\n",
    "    'train_acc': [],\n",
    "    'val_loss': [],\n",
    "    'val_acc': [],\n",
    "    'val_top5': [],\n",
    "    'epoch_time': [],     # Track epoch duration (in seconds)\n",
    "    'max_gpu_mem': []     # Track max GPU memory (in MB)\n",
    "}\n",
    "\n",
    "for epoch in range(1, NUM_EPOCHS+1):\n",
    "    start_time = time.time()\n",
    "    torch.cuda.reset_peak_memory_stats()  # Reset tracking\n",
    "    \n",
    "    model.train(); running_loss=correct=total=0; start=time.time()\n",
    "    pbar = tqdm(train_loader, desc=f\"Epoch {epoch}/{NUM_EPOCHS}\", unit='batch')\n",
    "    for x,y in pbar:\n",
    "        x,y = x.to(device), y.to(device)\n",
    "        optimizer.zero_grad(); out = model(x); loss = criterion(out,y)\n",
    "        loss.backward(); optimizer.step()\n",
    "        bs = x.size(0); running_loss+=loss.item()*bs; preds=out.argmax(1)\n",
    "        correct+=preds.eq(y).sum().item(); total+=bs\n",
    "        elapsed = time.time()-start; rem=elapsed*(len(train_loader)-pbar.n)\n",
    "        m, s = divmod(int(rem),60)\n",
    "        pbar.set_postfix({'loss':f\"{running_loss/total:.4f}\",'acc':f\"{100.*correct/total:.2f}%\",'ETA':f\"{m}m{s}s\"})\n",
    "    scheduler.step()\n",
    "    \n",
    "    epoch_time = time.time() - start_time\n",
    "    max_mem_mb = torch.cuda.max_memory_allocated() / 1024 / 1024\n",
    "    \n",
    "    val_loss, val_top1, val_top5 = validate(model, val_loader, criterion)\n",
    "\n",
    "    history['train_loss'].append(running_loss / total)\n",
    "    history['train_acc'].append(100. * correct / total)\n",
    "    history['val_loss'].append(val_loss)\n",
    "    history['val_acc'].append(val_top1)\n",
    "    history.setdefault('val_top5', []).append(val_top5)\n",
    "    history['epoch_time'].append(epoch_time)\n",
    "    history['max_gpu_mem'].append(max_mem_mb)\n",
    "\n",
    "    print(f\"Epoch {epoch}/{NUM_EPOCHS} Train Acc: {100.*correct/total:.2f}% | \"\n",
    "          f\"Val Top-1 Acc: {val_top1:.2f}% | Val Top-5 Acc: {val_top5:.2f}%\")\n",
    "\n",
    "# Save Model\n",
    "\n",
    "save_dir = os.path.join(\"model\", SELECT_ACTIVATION)\n",
    "os.makedirs(save_dir, exist_ok=True)\n",
    "\n",
    "save_path = os.path.join(save_dir, f\"ImageNet100_{SELECT_MODEL}_{SELECT_ACTIVATION}.pth\")\n",
    "torch.save(model.state_dict(), save_path)\n",
    "\n",
    "# save history\n",
    "hist_dir = os.path.join(\"checkpoints\", SELECT_ACTIVATION)\n",
    "os.makedirs(hist_dir, exist_ok=True)\n",
    "\n",
    "hist_path = os.path.join(hist_dir, f\"history_{SELECT_MODEL}_{SELECT_ACTIVATION}.pt\")\n",
    "torch.save(history, hist_path)\n",
    "\n",
    "print(\"Saved history to\", hist_path)"
   ]
  },
  {
   "cell_type": "code",
   "execution_count": 9,
   "metadata": {
    "colab": {
     "base_uri": "https://localhost:8080/",
     "height": 472
    },
    "id": "ksCYJ7ZtNNzn",
    "outputId": "cfae33ac-6099-4566-b484-916fd845ca59"
   },
   "outputs": [
    {
     "data": {
      "image/png": "[encoded data removed]",
      "text/plain": [
       "<Figure size 432x288 with 1 Axes>"
      ]
     },
     "metadata": {
      "needs_background": "light"
     },
     "output_type": "display_data"
    }
   ],
   "source": [
    "import matplotlib.pyplot as plt\n",
    "plt.plot(history['val_acc'], label='Val Acc')\n",
    "plt.xlabel('Epoch'); plt.ylabel('Test Accuracy (%)')\n",
    "plt.title(f'{SELECT_MODEL} with {SELECT_ACTIVATION} on CIFAR-10')\n",
    "plt.legend(); plt.show()\n"
   ]
  },
  {
   "cell_type": "code",
   "execution_count": 11,
   "metadata": {
    "colab": {
     "base_uri": "https://localhost:8080/",
     "height": 505
    },
    "id": "QW1CcPrd6WUb",
    "outputId": "4c865d94-8a3b-4f3a-e952-0f0ecc37b17f"
   },
   "outputs": [
    {
     "name": "stdout",
     "output_type": "stream",
     "text": [
      "Missing: checkpoints/LeakyReLU/history_ResNet18_LeakyReLU.pt\n",
      "Missing: checkpoints/Sigmoid/history_ResNet18_Sigmoid.pt\n",
      "Missing: checkpoints/Tanh/history_ResNet18_Tanh.pt\n",
      "Missing: checkpoints/ELU/history_ResNet18_ELU.pt\n",
      "Missing: checkpoints/Swish_fixed/history_ResNet18_Swish_fixed.pt\n",
      "Missing: checkpoints/Swish_trainable/history_ResNet18_Swish_trainable.pt\n"
     ]
    },
    {
     "data": {
      "image/png": "[encoded data removed]",
      "text/plain": [
       "<Figure size 720x432 with 1 Axes>"
      ]
     },
     "metadata": {
      "needs_background": "light"
     },
     "output_type": "display_data"
    }
   ],
   "source": [
    "import os\n",
    "import torch\n",
    "import matplotlib.pyplot as plt\n",
    "\n",
    "BASE_DIR = \"checkpoints\"  # or wherever your .pt files are saved\n",
    "SELECT_MODEL = \"ResNet18\"  # or \"ResNet18\", etc.\n",
    "\n",
    "# List all activations you used in training\n",
    "ACTIVATIONS = ['ReLU', 'LeakyReLU', 'Sigmoid', 'Tanh', 'ELU', 'Swish_fixed', 'Swish_trainable']\n",
    "\n",
    "plt.figure(figsize=(10,6))\n",
    "\n",
    "for activation in ACTIVATIONS:\n",
    "    hist_path = os.path.join(BASE_DIR, activation, f\"history_{SELECT_MODEL}_{activation}.pt\")\n",
    "    if not os.path.exists(hist_path):\n",
    "        print(f\"Missing: {hist_path}\")\n",
    "        continue\n",
    "\n",
    "    history = torch.load(hist_path)\n",
    "    acc_list = history.get('val_acc', history.get('test_acc', []))\n",
    "    \n",
    "    if not acc_list:\n",
    "        print(f\"No val/test acc found in {activation}\")\n",
    "        continue\n",
    "\n",
    "    epochs = range(1, len(acc_list) + 1)\n",
    "    plt.plot(epochs, acc_list, marker='o', label=activation)\n",
    "\n",
    "plt.title(f\"Validation Accuracy over Epochs ({SELECT_MODEL})\")\n",
    "plt.xlabel(\"Epoch\")\n",
    "plt.ylabel(\"Accuracy (%)\")\n",
    "plt.grid(True)\n",
    "plt.legend()\n",
    "plt.tight_layout()\n",
    "plt.show()\n"
   ]
  },
  {
   "cell_type": "code",
   "execution_count": null,
   "metadata": {},
   "outputs": [],
   "source": []
  }
 ],
 "metadata": {
  "accelerator": "GPU",
  "colab": {
   "gpuType": "T4",
   "provenance": []
  },
  "kernelspec": {
   "display_name": "Python 3",
   "language": "python",
   "name": "python3"
  },
  "language_info": {
   "codemirror_mode": {
    "name": "ipython",
    "version": 3
   },
   "file_extension": ".py",
   "mimetype": "text/x-python",
   "name": "python",
   "nbconvert_exporter": "python",
   "pygments_lexer": "ipython3",
   "version": "3.7.12"
  }
 },
 "nbformat": 4,
 "nbformat_minor": 4
}
