{
 "cells": [
  {
   "cell_type": "markdown",
   "id": "c298964c-2405-4442-bacf-40b60f514f35",
   "metadata": {},
   "source": [
    " ## Activation Function Comparison: Swish vs. ReLU vs. GELU on ImageNet-100"
   ]
  },
  {
   "cell_type": "code",
   "execution_count": null,
   "id": "22faff86-6646-47b8-9ebe-6e3e09ebe957",
   "metadata": {},
   "outputs": [],
   "source": [
    "# Imports\n",
    "import torch\n",
    "import torch.nn as nn\n",
    "import torch.nn.functional as F\n",
    "import torchvision\n",
    "from torchvision import transforms, datasets, models\n",
    "from torch.utils.data import DataLoader\n",
    "from tqdm import tqdm\n",
    "import copy\n",
    "import time\n",
    "import os\n",
    "import matplotlib.pyplot as plt\n"
   ]
  },
  {
   "cell_type": "markdown",
   "id": "117856e8-101f-4839-9048-b8bbbad0ae2c",
   "metadata": {},
   "source": []
  }
 ],
 "metadata": {
  "kernelspec": {
   "display_name": "Python 3",
   "language": "python",
   "name": "python3"
  },
  "language_info": {
   "codemirror_mode": {
    "name": "ipython",
    "version": 3
   },
   "file_extension": ".py",
   "mimetype": "text/x-python",
   "name": "python",
   "nbconvert_exporter": "python",
   "pygments_lexer": "ipython3",
   "version": "3.7.12"
  }
 },
 "nbformat": 4,
 "nbformat_minor": 5
}
